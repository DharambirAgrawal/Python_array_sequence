{
 "cells": [
  {
   "cell_type": "markdown",
   "metadata": {},
   "source": [
    "Wite a Python function that takes two three-dimensional numeric data sets and ads them componentwise."
   ]
  },
  {
   "cell_type": "code",
   "execution_count": null,
   "metadata": {},
   "outputs": [
    {
     "data": {
      "text/plain": [
       "(6, 8, 10)"
      ]
     },
     "execution_count": 2,
     "metadata": {},
     "output_type": "execute_result"
    }
   ],
   "source": [
    "def addcomponentwise(a,b):\n",
    "    if len(a) != 3 or len(b) != 3:\n",
    "        raise ValueError(\"Both inputs must be three-dimensional tuples.\")\n",
    "    x1,y1,z1=a\n",
    "    x2,y2,z2=b\n",
    "\n",
    "    return (x1+x2,y1+y2,z1+z2)\n",
    "\n",
    "a=(1,2,3)\n",
    "b=(5,6,7)\n",
    "addcomponentwise(a,b)"
   ]
  },
  {
   "cell_type": "markdown",
   "metadata": {},
   "source": [
    "Write a Python program for a matrix class that can add and multiply two-dimensional arrays of numbers, assuming the dimensions agree appropriatly for the operation."
   ]
  },
  {
   "cell_type": "code",
   "execution_count": 15,
   "metadata": {},
   "outputs": [
    {
     "name": "stdout",
     "output_type": "stream",
     "text": [
      "[[6 1]\n",
      " [3 6]]\n",
      "[[8 5]\n",
      " [7 9]]\n"
     ]
    },
    {
     "data": {
      "text/plain": [
       "array([[55, 39],\n",
       "       [66, 69]])"
      ]
     },
     "execution_count": 15,
     "metadata": {},
     "output_type": "execute_result"
    }
   ],
   "source": [
    "import numpy as np\n",
    "class Matrix:\n",
    "    def __init__(self,a,b):\n",
    "        self.matrix1=a\n",
    "        self.matrix2=b\n",
    "        print(a)\n",
    "        print(b)\n",
    "    def add(self):\n",
    "        if self.matrix1.shape != self.matrix2.shape:\n",
    "            raise ValueError(\"The dimensions didn't match\")\n",
    "\n",
    "        return self.matrix1+self.matrix2\n",
    "    \n",
    "    def multiply(self):\n",
    "        if self.matrix1.shape != self.matrix2.shape:\n",
    "            raise ValueError(\"The dimensions didn't match\")\n",
    "        \n",
    "        return np.dot(self.matrix1,self.matrix2)\n",
    "\n",
    "\n",
    "\n",
    "a=np.random.randint(0,10,(2,2))\n",
    "b=np.random.randint(0,10,(2,2))\n",
    "\n",
    "matrix=Matrix(a,b)\n",
    "# matrix.add()\n",
    "matrix.multiply()"
   ]
  }
 ],
 "metadata": {
  "kernelspec": {
   "display_name": "Python 3",
   "language": "python",
   "name": "python3"
  },
  "language_info": {
   "codemirror_mode": {
    "name": "ipython",
    "version": 3
   },
   "file_extension": ".py",
   "mimetype": "text/x-python",
   "name": "python",
   "nbconvert_exporter": "python",
   "pygments_lexer": "ipython3",
   "version": "3.12.1"
  }
 },
 "nbformat": 4,
 "nbformat_minor": 2
}
