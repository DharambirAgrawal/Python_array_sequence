{
 "cells": [
  {
   "cell_type": "code",
   "execution_count": null,
   "metadata": {},
   "outputs": [],
   "source": [
    "#5.1\n",
    "import sys # provides getsizeof function\n",
    "data = [ ]\n",
    "n=27\n",
    "for k in range(n): # NOTE: must fix choice of n\n",
    "    a = len(data) # number of elements\n",
    "    b = sys.getsizeof(data) # actual size in bytes\n",
    "    print( \"Length: {0:3d}; Size in bytes: {1:4d}\" .format(a, b))\n",
    "    data.append(None)"
   ]
  }
 ],
 "metadata": {
  "language_info": {
   "name": "python"
  }
 },
 "nbformat": 4,
 "nbformat_minor": 2
}
