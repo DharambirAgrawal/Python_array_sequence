{
 "cells": [
  {
   "cell_type": "markdown",
   "metadata": {},
   "source": [
    "Execute the experiment from Code Fragment 5.1 and compare the results\n",
    "on your system to those we report in Code Fragment 5.2."
   ]
  },
  {
   "cell_type": "markdown",
   "metadata": {},
   "source": [
    "In Code Fragment 5.1, we perform an experiment to compare the length of\n",
    "a Python list to its underlying memory usage. Determining the sequence\n",
    "of array sizes requires a manual inspection of the output of that program.\n",
    "Redesign the experiment so that the program outputs only those values of\n",
    "k at which the existing capacity is exhausted. For example, on a system\n",
    "consistent with the results of Code Fragment 5.2, your program should\n",
    "output that the sequence of array capacities are 0, 4, 8, 16, 25, ..."
   ]
  },
  {
   "cell_type": "markdown",
   "metadata": {},
   "source": [
    "Modify the experiment from Code Fragment 5.1 in order to demonstrate\n",
    "that Python’s list class occasionally shrinks the size of its underlying array\n",
    "when elements are popped from a list."
   ]
  },
  {
   "cell_type": "markdown",
   "metadata": {},
   "source": [
    "Our DynamicArray class, as given in Code Fragment 5.3, does not support\n",
    "use of negative indices with getitem . Update that method to better\n",
    "match the semantics of a Python list."
   ]
  },
  {
   "cell_type": "markdown",
   "metadata": {},
   "source": [
    "Redo the justification of Proposition 5.1 assuming that the the cost of\n",
    "growing the array from size k to size 2k is 3k cyber-dollars. How much\n",
    "should each append operation be charged to make the amortization work?"
   ]
  },
  {
   "cell_type": "markdown",
   "metadata": {},
   "source": [
    "Our implementation of insert for the DynamicArray class, as given in\n",
    "Code Fragment 5.5, has the following inefficiency. In the case when a re\u0002size occurs, the resize operation takes time to copy all the elements from\n",
    "an old array to a new array, and then the subsequent loop in the body of\n",
    "insert shifts many of those elements. Give an improved implementation\n",
    "of the insert method, so that, in the case of a resize, the elements are\n",
    "shifted into their final position during that operation, thereby avoiding the\n",
    "subsequent shifting."
   ]
  },
  {
   "cell_type": "markdown",
   "metadata": {},
   "source": [
    "Let A be an array of size n ≥ 2 containing integers from 1 to n−1, inclu\u0002sive, with exactly one repeated. Describe a fast algorithm for finding the\n",
    "integer in A that is repeated."
   ]
  },
  {
   "cell_type": "markdown",
   "metadata": {},
   "source": [
    "Experimentally evaluate the efficiency of the pop method of Python’s list\n",
    "class when using varying indices as a parameter, as we did for insert on\n",
    "page 205. Report your results akin to Table 5.5."
   ]
  },
  {
   "cell_type": "markdown",
   "metadata": {},
   "source": [
    "Explain the changes that would have to be made to the program of Code\n",
    "Fragment 5.11 so that it could perform the Caesar cipher for messages\n",
    "that are written in an alphabet-based language other than English, such as\n",
    "Greek, Russian, or Hebrew."
   ]
  },
  {
   "cell_type": "markdown",
   "metadata": {},
   "source": [
    "The constructor for the CaesarCipher class in Code Fragment 5.11 can\n",
    "be implemented with a two-line body by building the forward and back\u0002ward strings using a combination of the join method and an appropriate\n",
    "comprehension syntax. Give such an implementation."
   ]
  },
  {
   "cell_type": "markdown",
   "metadata": {},
   "source": [
    "Use standard control structures to compute the sum of all numbers in an\n",
    "n×n data set, represented as a list of lists."
   ]
  },
  {
   "cell_type": "markdown",
   "metadata": {},
   "source": [
    "Describe how the built-in sum function can be combined with Python’s\n",
    "comprehension syntax to compute the sum of all numbers in an n×n data\n",
    "set, represented as a list of lists."
   ]
  }
 ],
 "metadata": {
  "language_info": {
   "name": "python"
  }
 },
 "nbformat": 4,
 "nbformat_minor": 2
}
