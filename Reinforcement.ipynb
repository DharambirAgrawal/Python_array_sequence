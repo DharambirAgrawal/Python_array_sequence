{
 "cells": [
  {
   "cell_type": "markdown",
   "metadata": {},
   "source": [
    "Execute the experiment from Code Fragment 5.1 and compare the results on your system to those we report in Code Fragment 5.2."
   ]
  },
  {
   "cell_type": "code",
   "execution_count": 21,
   "metadata": {},
   "outputs": [
    {
     "name": "stdout",
     "output_type": "stream",
     "text": [
      "Length:   0; Size in bytes:   56\n",
      "Length:   1; Size in bytes:   88\n",
      "Length:   2; Size in bytes:   88\n",
      "Length:   3; Size in bytes:   88\n",
      "Length:   4; Size in bytes:   88\n",
      "Length:   5; Size in bytes:  120\n",
      "Length:   6; Size in bytes:  120\n",
      "Length:   7; Size in bytes:  120\n",
      "Length:   8; Size in bytes:  120\n",
      "Length:   9; Size in bytes:  184\n",
      "Length:  10; Size in bytes:  184\n",
      "Length:  11; Size in bytes:  184\n",
      "Length:  12; Size in bytes:  184\n",
      "Length:  13; Size in bytes:  184\n",
      "Length:  14; Size in bytes:  184\n",
      "Length:  15; Size in bytes:  184\n",
      "Length:  16; Size in bytes:  184\n",
      "Length:  17; Size in bytes:  248\n",
      "Length:  18; Size in bytes:  248\n",
      "Length:  19; Size in bytes:  248\n",
      "Length:  20; Size in bytes:  248\n",
      "Length:  21; Size in bytes:  248\n",
      "Length:  22; Size in bytes:  248\n",
      "Length:  23; Size in bytes:  248\n",
      "Length:  24; Size in bytes:  248\n",
      "Length:  25; Size in bytes:  312\n",
      "Length:  26; Size in bytes:  312\n"
     ]
    }
   ],
   "source": [
    "import sys # provides getsizeof function\n",
    "data = [ ]\n",
    "n=27\n",
    "for k in range(n): # NOTE: must fix choice of n\n",
    "    a = len(data) # number of elements\n",
    "    b = sys.getsizeof(data) # actual size in bytes\n",
    "    print( \"Length: {0:3d}; Size in bytes: {1:4d}\" .format(a, b))\n",
    "    data.append(None)\n",
    "\n",
    "# the space allocation seems reduces so this shows they have made the python more memory effectient in terms of array"
   ]
  },
  {
   "cell_type": "markdown",
   "metadata": {},
   "source": [
    "In Code Fragment 5.1, we perform an experiment to compare the length of a Python list to its underlying memory usage. Determining the sequence of array sizes requires a manual inspection of the output of that program. Redesign the experiment so that the program outputs only those values of k at which the existing capacity is exhausted. For example, on a system consistent with the results of Code Fragment 5.2, your program should output that the sequence of array capacities are 0, 4, 8, 16, 25, ..."
   ]
  },
  {
   "cell_type": "code",
   "execution_count": 26,
   "metadata": {},
   "outputs": [
    {
     "name": "stdout",
     "output_type": "stream",
     "text": [
      "0, 4, 8, 16, 24, "
     ]
    }
   ],
   "source": [
    "import sys \n",
    "data = [ ]\n",
    "n=27\n",
    "prev=sys.getsizeof(data)\n",
    "for k in range(n):\n",
    "    a = len(data) \n",
    "    b = sys.getsizeof(data) \n",
    "    if prev != b:\n",
    "        print(a-1,end=', ')\n",
    "        prev=b\n",
    "    data.append(None)"
   ]
  },
  {
   "cell_type": "markdown",
   "metadata": {},
   "source": [
    "Modify the experiment from Code Fragment 5.1 in order to demonstrate that Python’s list class occasionally shrinks the size of its underlying array when elements are popped from a list."
   ]
  },
  {
   "cell_type": "code",
   "execution_count": 32,
   "metadata": {},
   "outputs": [
    {
     "name": "stdout",
     "output_type": "stream",
     "text": [
      "Length:  27; Size in bytes:  312\n",
      "Length:  26; Size in bytes:  312\n",
      "Length:  25; Size in bytes:  312\n",
      "Length:  24; Size in bytes:  312\n",
      "Length:  23; Size in bytes:  312\n",
      "Length:  22; Size in bytes:  312\n",
      "Length:  21; Size in bytes:  312\n",
      "Length:  20; Size in bytes:  312\n",
      "Length:  19; Size in bytes:  312\n",
      "Length:  18; Size in bytes:  312\n",
      "Length:  17; Size in bytes:  312\n",
      "Length:  16; Size in bytes:  312\n",
      "Length:  15; Size in bytes:  216\n",
      "Length:  14; Size in bytes:  216\n",
      "Length:  13; Size in bytes:  216\n",
      "Length:  12; Size in bytes:  216\n",
      "Length:  11; Size in bytes:  216\n",
      "Length:  10; Size in bytes:  216\n",
      "Length:   9; Size in bytes:  184\n",
      "Length:   8; Size in bytes:  184\n",
      "Length:   7; Size in bytes:  152\n",
      "Length:   6; Size in bytes:  152\n",
      "Length:   5; Size in bytes:  120\n",
      "Length:   4; Size in bytes:  120\n",
      "Length:   3; Size in bytes:  120\n",
      "Length:   2; Size in bytes:  120\n",
      "Length:   1; Size in bytes:   88\n",
      "[]\n"
     ]
    }
   ],
   "source": [
    "import sys # provides getsizeof function\n",
    "n=27\n",
    "data = [None for _ in range(n) ]\n",
    "for k in range(n): # NOTE: must fix choice of n\n",
    "    a = len(data) # number of elements\n",
    "    b = sys.getsizeof(data) # actual size in bytes\n",
    "    print( \"Length: {0:3d}; Size in bytes: {1:4d}\" .format(a, b))\n",
    "    data.pop()\n",
    "print(data)"
   ]
  },
  {
   "cell_type": "markdown",
   "metadata": {},
   "source": [
    "Let A be an array of size n ≥ 2 containing integers from 1 to n−1, inclusive, with exactly one repeated. Describe a fast algorithm for finding the integer in A that is repeated."
   ]
  },
  {
   "cell_type": "code",
   "execution_count": 13,
   "metadata": {},
   "outputs": [
    {
     "data": {
      "text/plain": [
       "False"
      ]
     },
     "execution_count": 13,
     "metadata": {},
     "output_type": "execute_result"
    }
   ],
   "source": [
    "# without recursion\n",
    "def isrepeated(a):\n",
    "    seen=set()\n",
    "    for i in range(len(a)):\n",
    "        if a[i] in seen:\n",
    "            return True\n",
    "        seen.add(a[i])\n",
    "    return False\n",
    "\n",
    "a=[1,2,3,4,5,6,7,8,8]\n",
    "isrepeated(a)\n",
    "# i read that in book using like value in data takes this time complixity  O(k+1) in array so isn't so in the case of set \n",
    "    "
   ]
  },
  {
   "cell_type": "code",
   "execution_count": 6,
   "metadata": {},
   "outputs": [
    {
     "name": "stdout",
     "output_type": "stream",
     "text": [
      "False\n"
     ]
    }
   ],
   "source": [
    "# with recursion\n",
    "def isrepeated(a,e=0):\n",
    "    if e==len(a)-1:\n",
    "        return False\n",
    "    for i in range(e+1,len(a)):\n",
    "        if a[e]==a[i]:\n",
    "            return True\n",
    "    return isrepeated(a,e+1)\n",
    "    \n",
    "a=[1,2,3,4,5,6,7,8]\n",
    "print(isrepeated(a))\n",
    "    "
   ]
  },
  {
   "cell_type": "markdown",
   "metadata": {},
   "source": [
    "Use standard control structures to compute the sum of all numbers in an n×n data set, represented as a list of lists."
   ]
  },
  {
   "cell_type": "code",
   "execution_count": 24,
   "metadata": {},
   "outputs": [
    {
     "name": "stdout",
     "output_type": "stream",
     "text": [
      "[0, 0, 0, 0, 0]\n",
      "[1, 1, 1, 1, 1]\n",
      "[2, 2, 2, 2, 2]\n",
      "[3, 3, 3, 3, 3]\n",
      "[4, 4, 4, 4, 4]\n",
      "50\n"
     ]
    }
   ],
   "source": [
    "list=[[i]*5 for i in range(5)]\n",
    "sum=0\n",
    "for i in list:\n",
    "    for j in i:\n",
    "        sum=sum+j\n",
    "\n",
    "print(sum)"
   ]
  },
  {
   "cell_type": "markdown",
   "metadata": {},
   "source": [
    "Describe how the built-in sum function can be combined with Python’s comprehension syntax to compute the sum of all numbers in an n×n data set, represented as a list of lists."
   ]
  },
  {
   "cell_type": "code",
   "execution_count": 1,
   "metadata": {},
   "outputs": [
    {
     "name": "stdout",
     "output_type": "stream",
     "text": [
      "50\n"
     ]
    }
   ],
   "source": [
    "list=[[i]*5 for i in range(5)]\n",
    "\n",
    "sum=sum( [val for row in list for val in row ])\n",
    "print(sum)"
   ]
  }
 ],
 "metadata": {
  "kernelspec": {
   "display_name": "Python 3",
   "language": "python",
   "name": "python3"
  },
  "language_info": {
   "codemirror_mode": {
    "name": "ipython",
    "version": 3
   },
   "file_extension": ".py",
   "mimetype": "text/x-python",
   "name": "python",
   "nbconvert_exporter": "python",
   "pygments_lexer": "ipython3",
   "version": "3.12.1"
  }
 },
 "nbformat": 4,
 "nbformat_minor": 2
}
