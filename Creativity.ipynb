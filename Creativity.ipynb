{
 "cells": [
  {
   "cell_type": "markdown",
   "metadata": {},
   "source": [
    "In the experiment of Code Fragment 5.1, we begin with an empty list. If\n",
    "data were initially constructed with nonempty length, does this affect the\n",
    "sequence of values at which the underlying array is expanded? Perform\n",
    "your own experiments, and comment on any relationship you see between\n",
    "the initial length and the expansion sequence."
   ]
  },
  {
   "cell_type": "code",
   "execution_count": null,
   "metadata": {},
   "outputs": [],
   "source": [
    "import sys \n",
    "n=27\n",
    "data = [ None]\n",
    "for k in range(n): # NOTE: must fix choice of n\n",
    "    a = len(data) # number of elements\n",
    "    b = sys.getsizeof(data) # actual size in bytes\n",
    "    print( \"Length: {0:3d}; Size in bytes: {1:4d}\" .format(a, b))\n",
    "    data.append(None)\n",
    "# here when taking non empty list the size started with 64 but if it wast empty it started with 88"
   ]
  },
  {
   "cell_type": "markdown",
   "metadata": {},
   "source": [
    "The shuffle method, supported by the random module, takes a Python\n",
    "list and rearranges it so that every possible ordering is equally likely.\n",
    "Implement your own version of such a function. You may rely on the\n",
    "randrange(n) function of the random module, which returns a random\n",
    "number between 0 and n−1 inclusive."
   ]
  },
  {
   "cell_type": "code",
   "execution_count": 33,
   "metadata": {},
   "outputs": [
    {
     "data": {
      "text/plain": [
       "[3, 8, 7, 5, 9, 6, 4, 2, 1]"
      ]
     },
     "execution_count": 33,
     "metadata": {},
     "output_type": "execute_result"
    }
   ],
   "source": [
    "import random\n",
    "\n",
    "def suffle(list,new_list=[]):\n",
    "    if len(list)==0:\n",
    "        return new_list\n",
    "   \n",
    "    num=random.randrange(0,len(list))\n",
    "    new_list.append(list[num])\n",
    "    remaining=list[:num]+list[num+1:]\n",
    "\n",
    "    return suffle(remaining,new_list)\n",
    "\n",
    "\n",
    "list=[1,2,3,4,5,6,7,8,9]\n",
    "suffle(list)"
   ]
  },
  {
   "cell_type": "markdown",
   "metadata": {},
   "source": [
    "Consider an implementation of a dynamic array, but instead of copying the elements into an array of double the size (that is, from N to 2N) when its capacity is reached, we copy the elements into an array with  [N/4] additional cells, going from capacity N to capacity [N + N/4]. Prove that performing a sequence of n append operations still runs in O(n) time in this case."
   ]
  },
  {
   "cell_type": "markdown",
   "metadata": {},
   "source": [
    "To analyze the time complexity of a dynamic array that grows by \\( N + \\frac{N}{4} \\) instead of \\( 2N \\), let’s go over the amortized cost per append operation.\n",
    "\n",
    "### 1. Analyzing the Growth Rate\n",
    "When the dynamic array reaches its capacity, we expand it to a new capacity of:\n",
    "\\[\n",
    "\\text{new capacity} = N + \\frac{N}{4} = \\frac{5N}{4}\n",
    "\\]\n",
    "So, each time we need to grow, we increase the capacity by \\( \\frac{N}{4} \\) additional cells (or 25% of the current size). We denote this operation as a *growth factor* of \\( \\frac{5}{4} \\).\n",
    "\n",
    "### 2. Cost of Copying on Resizing\n",
    "When we resize the array, we need to copy all the existing elements to the new array. If we consider \\( k \\) resizing events over \\( n \\) total operations, the cost of each resizing event is proportional to the size of the array at that point.\n",
    "\n",
    "To understand the total time spent on copying, let’s calculate the total amount of elements copied over all resizing events.\n",
    "\n",
    "#### Growth Pattern of the Dynamic Array\n",
    "Let’s track the capacity progression:\n",
    "- Initially, the capacity is \\( N \\).\n",
    "- After the first resizing, it becomes \\( \\frac{5N}{4} \\).\n",
    "- After the second resizing, it becomes \\( \\left( \\frac{5}{4} \\right)^2 N \\).\n",
    "- After \\( k \\) resizing events, the capacity will be \\( \\left( \\frac{5}{4} \\right)^k N \\).\n",
    "\n",
    "We stop resizing when this capacity reaches \\( n \\), so we need to find \\( k \\) such that:\n",
    "\\[\n",
    "\\left( \\frac{5}{4} \\right)^k N \\geq n\n",
    "\\]\n",
    "Taking the logarithm, we get:\n",
    "\\[\n",
    "k \\approx \\log_{5/4} \\frac{n}{N} = \\frac{\\ln(n/N)}{\\ln(5/4)}\n",
    "\\]\n",
    "Thus, there are \\( O(\\log n) \\) resizing events.\n",
    "\n",
    "#### Total Copying Cost\n",
    "Now, let’s analyze the cost of copying over these \\( O(\\log n) \\) resizing events.\n",
    "\n",
    "1. **Initial Size**: The first resizing costs \\( N \\) to copy.\n",
    "2. **Second Resizing**: The second resizing costs \\( \\frac{5N}{4} \\) to copy.\n",
    "3. **Third Resizing**: The third resizing costs \\( \\left( \\frac{5}{4} \\right)^2 N \\) to copy.\n",
    "\n",
    "The total cost \\( T(n) \\) for all resizing events (the sum of all copying costs) is:\n",
    "\\[\n",
    "T(n) = N + \\frac{5N}{4} + \\left( \\frac{5}{4} \\right)^2 N + \\cdots\n",
    "\\]\n",
    "This is a geometric series with ratio \\( \\frac{5}{4} \\), so we can sum it as follows:\n",
    "\\[\n",
    "T(n) = N \\sum_{i=0}^{k} \\left( \\frac{5}{4} \\right)^i\n",
    "\\]\n",
    "Using the formula for the sum of a geometric series, \\( S = \\frac{a(1 - r^{m+1})}{1 - r} \\), we get:\n",
    "\\[\n",
    "T(n) = N \\cdot \\frac{1 - \\left( \\frac{5}{4} \\right)^{k+1}}{1 - \\frac{5}{4}}\n",
    "\\]\n",
    "Since \\( k = O(\\log n) \\), this sum converges to \\( O(n) \\).\n",
    "\n",
    "### 3. Amortized Cost per Operation\n",
    "The total cost for \\( n \\) append operations is \\( O(n) \\). Therefore, the amortized cost per append operation is:\n",
    "\\[\n",
    "\\frac{O(n)}{n} = O(1)\n",
    "\\]\n",
    "Thus, even with this resizing strategy, performing a sequence of \\( n \\) append operations takes \\( O(n) \\) time overall."
   ]
  },
  {
   "cell_type": "markdown",
   "metadata": {},
   "source": [
    "In Section 5.4.2, we described four different ways to compose a long\n",
    "string: (1) repeated concatenation, (2) appending to a temporary list and\n",
    "then joining, (3) using list comprehension with join, and (4) using genera\u0002tor comprehension with join. Develop an experiment to test the efficiency\n",
    "of all four of these approaches and report your findings."
   ]
  },
  {
   "cell_type": "markdown",
   "metadata": {},
   "source": [
    "Develop an experiment to compare the relative efficiency of the extend\n",
    "method of Python’s list class versus using repeated calls to append to\n",
    "accomplish the equivalent task."
   ]
  },
  {
   "cell_type": "markdown",
   "metadata": {},
   "source": [
    "Based on the discussion of page 207, develop an experiment to compare\n",
    "the efficiency of Python’s list comprehension syntax versus the construc\u0002tion of a list by means of repeated calls to append."
   ]
  },
  {
   "cell_type": "markdown",
   "metadata": {},
   "source": [
    "Perform experiments to evaluate the efficiency of the remove method of\n",
    "Python’s list class, as we did for insert on page 205. Use known values so\n",
    "that all removals occur either at the beginning, middle, or end of the list.\n",
    "Report your results akin to Table 5.5."
   ]
  },
  {
   "cell_type": "markdown",
   "metadata": {},
   "source": [
    "The syntax data.remove(value) for Python list data removes only the first\n",
    "occurrence of element value from the list. Give an implementation of a\n",
    "function, with signature remove all(data, value), that removes all occur\u0002rences of value from the given list, such that the worst-case running time\n",
    "of the function is O(n) on a list with n elements. Not that it is not efficient\n",
    "enough in general to rely on repeated calls to remove."
   ]
  },
  {
   "cell_type": "markdown",
   "metadata": {},
   "source": [
    "Let B be an array of size n ≥ 6 containing integers from 1 to n−5, inclu\u0002sive, with exactly five repeated. Describe a good algorithm for finding the\n",
    "five integers in B that are repeated."
   ]
  },
  {
   "cell_type": "markdown",
   "metadata": {},
   "source": [
    "Given a Python list L of n positive integers, each represented with k =\n",
    "\n",
    "[log n] + 1 bits, describe an O(n)-time method for finding a k-bit integer\n",
    "not in L."
   ]
  },
  {
   "cell_type": "markdown",
   "metadata": {},
   "source": [
    "Argue why any solution to the previous problem must run in Ω(n) time."
   ]
  },
  {
   "cell_type": "markdown",
   "metadata": {},
   "source": [
    "A useful operation in databases is the natural join. If we view a database\n",
    "as a list of ordered pairs of objects, then the natural join of databases A\n",
    "and B is the list of all ordered triples (x,y,z) such that the pair (x,y) is in\n",
    "A and the pair (y,z) is in B. Describe and analyze an efficient algorithm\n",
    "for computing the natural join of a list A of n pairs and a list B of m pairs."
   ]
  },
  {
   "cell_type": "markdown",
   "metadata": {},
   "source": [
    "When Bob wants to send Alice a message M on the Internet, he breaks M\n",
    "into n data packets, numbers the packets consecutively, and injects them\n",
    "into the network. When the packets arrive at Alice’s computer, they may\n",
    "be out of order, so Alice must assemble the sequence of n packets in order\n",
    "before she can be sure she has the entire message. Describe an efficient\n",
    "scheme for Alice to do this, assuming that she knows the value of n. What\n",
    "is the running time of this algorithm?"
   ]
  },
  {
   "cell_type": "code",
   "execution_count": null,
   "metadata": {},
   "outputs": [],
   "source": []
  },
  {
   "cell_type": "markdown",
   "metadata": {},
   "source": [
    "Describe a way to use recursion to add all the numbers in an n × n data\n",
    "set, represented as a list of lists."
   ]
  },
  {
   "cell_type": "code",
   "execution_count": 48,
   "metadata": {},
   "outputs": [
    {
     "data": {
      "text/plain": [
       "50"
      ]
     },
     "execution_count": 48,
     "metadata": {},
     "output_type": "execute_result"
    }
   ],
   "source": [
    "\n",
    "def sum_row(list,sum):\n",
    "    if len(list)==0:\n",
    "        return sum\n",
    "    sum+=list[0]\n",
    "    return sum_row(list[1:],sum)\n",
    "\n",
    "def addition(lists,sum=0):\n",
    "    if len(lists)==0:\n",
    "        return sum\n",
    "    sum=sum_row(lists[0],sum)\n",
    "    return addition(lists[1:],sum)\n",
    "\n",
    "n=5\n",
    "list=[[i]*n for i in range(n)]\n",
    "addition(list)\n"
   ]
  }
 ],
 "metadata": {
  "kernelspec": {
   "display_name": "Python 3",
   "language": "python",
   "name": "python3"
  },
  "language_info": {
   "codemirror_mode": {
    "name": "ipython",
    "version": 3
   },
   "file_extension": ".py",
   "mimetype": "text/x-python",
   "name": "python",
   "nbconvert_exporter": "python",
   "pygments_lexer": "ipython3",
   "version": "3.12.1"
  }
 },
 "nbformat": 4,
 "nbformat_minor": 2
}
